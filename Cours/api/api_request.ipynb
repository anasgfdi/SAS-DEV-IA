{
 "cells": [
  {
   "cell_type": "markdown",
   "metadata": {},
   "source": [
    "Pour requeter les api avec python, on va utiliser le package [requests](https://pypi.org/project/requests/):"
   ]
  },
  {
   "cell_type": "code",
   "execution_count": 3,
   "metadata": {},
   "outputs": [],
   "source": [
    "import requests"
   ]
  },
  {
   "cell_type": "markdown",
   "metadata": {},
   "source": [
    "Pour s'entrainer et voir la syntaxe des requetes, on va utiliser une API très simple à propos de [Lord of the ring](https://the-one-api.dev/)"
   ]
  },
  {
   "cell_type": "markdown",
   "metadata": {},
   "source": [
    "Quand on découvre une nouvelle API, il y a quelques éléments essentiel à aller chercher:\n",
    "- Est ce qu'un compte, une identificatio est nécessaire pour accéder à l'api et comment l'obtenir\n",
    "  - Pour cette API, il faut se créer un compte, vous pouvez utiliser le mien, parfois il faut créer une session en faisant directement une requete.\n",
    "- Quel est l'url de cet API\n",
    "  - ici ce sera \"https://the-one-api.dev/v2/\"\n",
    "- Quelles requetes je peux effectuer et comment puis-je les rédiger\n",
    "  - Il faut consulter la [documentation](https://the-one-api.dev/documentation)"
   ]
  },
  {
   "cell_type": "markdown",
   "metadata": {},
   "source": [
    "Je peux effectuer ma première requete, si on regarde la documentation, celle-ci ne nécessite pas de compte"
   ]
  },
  {
   "cell_type": "code",
   "execution_count": 6,
   "metadata": {},
   "outputs": [
    {
     "name": "stdout",
     "output_type": "stream",
     "text": [
      "{'docs': [{'_id': '5cf5805fb53e011a64671582', 'name': 'The Fellowship Of The Ring'}, {'_id': '5cf58077b53e011a64671583', 'name': 'The Two Towers'}, {'_id': '5cf58080b53e011a64671584', 'name': 'The Return Of The King'}], 'total': 3, 'limit': 1000, 'offset': 0, 'page': 1, 'pages': 1}\n"
     ]
    }
   ],
   "source": [
    "URL = \"https://the-one-api.dev/v2/\"\n",
    "\n",
    "list_of_book = requests.get(URL + \"book\")\n",
    "\n",
    "print(list_of_book.json())"
   ]
  },
  {
   "cell_type": "markdown",
   "metadata": {},
   "source": [
    "Pour afficher le résultat, on a utiliser la méthon .json, on peut en effet s'attarder un peu sur l'objet obtenu"
   ]
  },
  {
   "cell_type": "code",
   "execution_count": 11,
   "metadata": {},
   "outputs": [
    {
     "data": {
      "text/plain": [
       "requests.models.Response"
      ]
     },
     "execution_count": 11,
     "metadata": {},
     "output_type": "execute_result"
    }
   ],
   "source": [
    "type(list_of_book)"
   ]
  },
  {
   "cell_type": "code",
   "execution_count": null,
   "metadata": {},
   "outputs": [],
   "source": [
    "dir(list_of_book)"
   ]
  },
  {
   "cell_type": "markdown",
   "metadata": {},
   "source": [
    "On voit qu'on dispose d'autres attributs interesants:"
   ]
  },
  {
   "cell_type": "code",
   "execution_count": 16,
   "metadata": {},
   "outputs": [
    {
     "name": "stdout",
     "output_type": "stream",
     "text": [
      "list_of_book.status_code=200\n",
      "list_of_book.text='{\"docs\":[{\"_id\":\"5cf5805fb53e011a64671582\",\"name\":\"The Fellowship Of The Ring\"},{\"_id\":\"5cf58077b53e011a64671583\",\"name\":\"The Two Towers\"},{\"_id\":\"5cf58080b53e011a64671584\",\"name\":\"The Return Of The King\"}],\"total\":3,\"limit\":1000,\"offset\":0,\"page\":1,\"pages\":1}'\n",
      "list_of_book.url='https://the-one-api.dev/v2/book'\n",
      "list_of_book.reason='OK'\n"
     ]
    }
   ],
   "source": [
    "print(f\"{list_of_book.status_code=}\")\n",
    "print(f\"{list_of_book.text=}\")\n",
    "print(f\"{list_of_book.url=}\")\n",
    "print(f\"{list_of_book.reason=}\")\n"
   ]
  },
  {
   "cell_type": "markdown",
   "metadata": {},
   "source": [
    "On a récupérer les id des livres, on pourrait requeter de manière brutale les chapitres:"
   ]
  },
  {
   "cell_type": "code",
   "execution_count": null,
   "metadata": {},
   "outputs": [],
   "source": [
    "chapter_of_the_first_book =  requests.get(URL + \"book/5cf5805fb53e011a64671582/chapter\")\n",
    "print(chapter_of_the_first_book.json())"
   ]
  },
  {
   "cell_type": "markdown",
   "metadata": {},
   "source": [
    "L'avantage d'utiliser python est de faire des choses un peu plus subtiles:"
   ]
  },
  {
   "cell_type": "code",
   "execution_count": 26,
   "metadata": {},
   "outputs": [
    {
     "data": {
      "text/plain": [
       "'The Two Towers'"
      ]
     },
     "execution_count": 26,
     "metadata": {},
     "output_type": "execute_result"
    }
   ],
   "source": [
    "list_of_book.json()[\"docs\"][1][\"name\"]"
   ]
  },
  {
   "cell_type": "code",
   "execution_count": 29,
   "metadata": {},
   "outputs": [],
   "source": [
    "all_chapters={}\n",
    "for book in list_of_book.json()[\"docs\"]:\n",
    "    all_chapters[book[\"name\"]] = requests.get(URL + \"book/\" + book[\"_id\"] + \"/chapter\").json()"
   ]
  },
  {
   "cell_type": "code",
   "execution_count": null,
   "metadata": {},
   "outputs": [],
   "source": [
    "print(all_chapters)"
   ]
  },
  {
   "cell_type": "code",
   "execution_count": null,
   "metadata": {},
   "outputs": [],
   "source": [
    "response_get_square = requests.post(URL + \"square\", {\"number\" : 10})\n",
    "\n",
    "print(response_get_square.json())"
   ]
  },
  {
   "cell_type": "markdown",
   "metadata": {},
   "source": [
    "Voyons a présent comment faire les requetes qui necessite un Token"
   ]
  },
  {
   "cell_type": "code",
   "execution_count": 34,
   "metadata": {},
   "outputs": [
    {
     "name": "stdout",
     "output_type": "stream",
     "text": [
      "{'_id': '5cd99d4bde30eff6ebccfbbe', 'height': '', 'race': 'Human', 'gender': 'Female', 'birth': '', 'spouse': 'Belemir', 'death': '', 'realm': '', 'hair': '', 'name': 'Adanel', 'wikiUrl': 'http://lotr.wikia.com//wiki/Adanel'}\n"
     ]
    }
   ],
   "source": [
    "token = \"_2fa6BL0SwgsJHSdXg6U\"\n",
    "\n",
    "headers = {\"Authorization\": \"Bearer \"+token}\n",
    "\n",
    "list_of_character = requests.get(URL + \"character/\", headers=headers)\n",
    "\n",
    "print(list_of_character.json()[\"docs\"][0])"
   ]
  },
  {
   "cell_type": "markdown",
   "metadata": {},
   "source": [
    "L'api que nous utilisons n'a ni requete post, et n'utilise pas de paramètre mais il suffirait de suive cette syntaxe:"
   ]
  },
  {
   "cell_type": "code",
   "execution_count": null,
   "metadata": {},
   "outputs": [],
   "source": [
    "payload = {'key1': 'value1', 'key2': 'value2'}\n",
    "r = requests.get(URL, params=payload)"
   ]
  }
 ],
 "metadata": {
  "kernelspec": {
   "display_name": "Python 3.9.12 64-bit",
   "language": "python",
   "name": "python3"
  },
  "language_info": {
   "codemirror_mode": {
    "name": "ipython",
    "version": 3
   },
   "file_extension": ".py",
   "mimetype": "text/x-python",
   "name": "python",
   "nbconvert_exporter": "python",
   "pygments_lexer": "ipython3",
   "version": "3.9.12"
  },
  "orig_nbformat": 4,
  "vscode": {
   "interpreter": {
    "hash": "aee8b7b246df8f9039afb4144a1f6fd8d2ca17a180786b69acc140d282b71a49"
   }
  }
 },
 "nbformat": 4,
 "nbformat_minor": 2
}
